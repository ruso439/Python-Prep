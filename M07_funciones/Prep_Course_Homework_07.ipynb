{
 "cells": [
  {
   "attachments": {},
   "cell_type": "markdown",
   "metadata": {},
   "source": [
    "## Funciones"
   ]
  },
  {
   "attachments": {},
   "cell_type": "markdown",
   "metadata": {},
   "source": [
    "1) Crear una función que reciba un número como parámetro y devuelva True si es primo y False si no lo es"
   ]
  },
  {
   "cell_type": "code",
   "execution_count": 1,
   "metadata": {},
   "outputs": [],
   "source": [
    "def verificar_primo(numero):\n",
    "    es_primo = True\n",
    "    for i in range(2,numero):\n",
    "        if numero % i == 0:\n",
    "            es_primo = False\n",
    "            break\n",
    "    return es_primo"
   ]
  },
  {
   "cell_type": "code",
   "execution_count": 5,
   "metadata": {},
   "outputs": [
    {
     "name": "stdout",
     "output_type": "stream",
     "text": [
      "False\n",
      "True\n"
     ]
    }
   ],
   "source": [
    "print(verificar_primo(78))\n",
    "print(verificar_primo(79))"
   ]
  },
  {
   "attachments": {},
   "cell_type": "markdown",
   "metadata": {},
   "source": [
    "2) Utilizando la función del punto 1, realizar otra función que reciba de parámetro una lista de números y devuelva sólo aquellos que son primos en otra lista"
   ]
  },
  {
   "cell_type": "code",
   "execution_count": 6,
   "metadata": {},
   "outputs": [],
   "source": [
    "def extraer_primos(lista):\n",
    "    lista_primos = []\n",
    "    for elemento in lista:\n",
    "        if verificar_primo(int(elemento)):\n",
    "            lista_primos.append(elemento)\n",
    "    return lista_primos"
   ]
  },
  {
   "cell_type": "code",
   "execution_count": 8,
   "metadata": {},
   "outputs": [
    {
     "data": {
      "text/plain": [
       "[1, 2, 3, 5, 7, 11, 13, 17, 19, 23, 29]"
      ]
     },
     "execution_count": 8,
     "metadata": {},
     "output_type": "execute_result"
    }
   ],
   "source": [
    "lista_completa = [1,2,3,4,5,6,7,8,9,10,11,12,13,14,15,16,17,18,19,20,21,22,23,24,25,26,27,28,29,30]\n",
    "lista_primos = extraer_primos(lista_completa)\n",
    "lista_primos"
   ]
  },
  {
   "attachments": {},
   "cell_type": "markdown",
   "metadata": {},
   "source": [
    "3) Crear una función que al recibir una lista de números, devuelva el que más se repite y cuántas veces lo hace. Si hay más de un \"más repetido\", que devuelva cualquiera"
   ]
  },
  {
   "cell_type": "code",
   "execution_count": 12,
   "metadata": {},
   "outputs": [],
   "source": [
    "def valor_modal(lista):\n",
    "    lista_unicos = []\n",
    "    lista_repeticiones = []\n",
    "    if len(lista) == 0:\n",
    "        return None\n",
    "    for elemento in lista:\n",
    "        if elemento in lista_unicos:\n",
    "            i = lista_unicos.index(elemento)\n",
    "            lista_repeticiones[i] += 1\n",
    "        else:\n",
    "            lista_unicos.append(elemento)\n",
    "            lista_repeticiones.append(1)\n",
    "    moda = lista_unicos[0]\n",
    "    maximo = lista_repeticiones[0]\n",
    "    for i, elemento in enumerate(lista_unicos):\n",
    "        if lista_repeticiones[i] > maximo:\n",
    "            moda = lista_unicos[i]\n",
    "            maximo = lista_repeticiones[i]\n",
    "    return moda, maximo"
   ]
  },
  {
   "cell_type": "code",
   "execution_count": 15,
   "metadata": {},
   "outputs": [
    {
     "data": {
      "text/plain": [
       "(11, 4)"
      ]
     },
     "execution_count": 15,
     "metadata": {},
     "output_type": "execute_result"
    }
   ],
   "source": [
    "lis = [11,8,1,5,6,9,11,7,10,22,7,11,5,6,4,11,9,5]\n",
    "valor_modal(lis)"
   ]
  },
  {
   "attachments": {},
   "cell_type": "markdown",
   "metadata": {},
   "source": [
    "4) Crear una función que convierta entre grados Celsius, Farenheit y Kelvin<br>\n",
    "Fórmula 1\t: (°C × 9/5) + 32 = °F<br>\n",
    "Fórmula 2\t: °C + 273.15 = °K<br>\n",
    "Debe recibir 3 parámetros: el valor, la medida de orígen y la medida de destino"
   ]
  },
  {
   "cell_type": "code",
   "execution_count": 19,
   "metadata": {},
   "outputs": [
    {
     "name": "stdout",
     "output_type": "stream",
     "text": [
      "1C es igual a 33.80F\n"
     ]
    }
   ],
   "source": [
    "def convertir_temperatura(valor, unidad_origen, unidad_destino):\n",
    "    if unidad_origen == \"C\" and unidad_destino == \"F\":\n",
    "        valor_convertido = (valor * 9/5) + 32\n",
    "    elif unidad_origen == \"C\" and unidad_destino == \"K\":\n",
    "        valor_convertido = valor + 273.15\n",
    "    elif unidad_origen == \"F\" and unidad_destino == \"C\":\n",
    "        valor_convertido = (valor - 32) * 5/9\n",
    "    elif unidad_origen == \"F\" and unidad_destino == \"K\":\n",
    "        valor_convertido = (valor - 32) * 5/9 + 273.15\n",
    "    elif unidad_origen == \"K\" and unidad_destino == \"C\":\n",
    "        valor_convertido = valor - 273.15\n",
    "    elif unidad_origen == \"K\" and unidad_destino == \"F\":\n",
    "        valor_convertido = (valor - 273.15) * 9/5 + 32\n",
    "    else:\n",
    "        raise ValueError(\"Unidad de origen o destino no reconocida.\")\n",
    "    \n",
    "    return valor_convertido\n",
    "\n",
    "# Ejemplo\n",
    "valor_origen = 1\n",
    "unidad_origen = \"C\"\n",
    "unidad_destino = \"F\"\n",
    "\n",
    "resultado = convertir_temperatura(valor_origen, unidad_origen, unidad_destino)\n",
    "print(f\"{valor_origen}{unidad_origen} es igual a {resultado:.2f}{unidad_destino}\")"
   ]
  },
  {
   "attachments": {},
   "cell_type": "markdown",
   "metadata": {},
   "source": [
    "5) Iterando una lista con los tres valores posibles de temperatura que recibe la función del punto 5, hacer un print para cada combinación de los mismos:"
   ]
  },
  {
   "cell_type": "code",
   "execution_count": 25,
   "metadata": {},
   "outputs": [
    {
     "name": "stdout",
     "output_type": "stream",
     "text": [
      "25C es igual a 77.00F\n",
      "25C es igual a 298.15K\n",
      "32C es igual a 89.60F\n",
      "32C es igual a 305.15K\n",
      "100C es igual a 212.00F\n",
      "100C es igual a 373.15K\n"
     ]
    }
   ],
   "source": [
    "# Lista de valores de temperatura\n",
    "valores_temperatura = [\n",
    "    (25, \"C\", \"F\"),\n",
    "    (32, \"C\", \"F\"),\n",
    "    (100, \"C\", \"F\")\n",
    "]\n",
    "\n",
    "unidades = [\"C\", \"F\", \"K\"]\n",
    "\n",
    "for combinacion in valores_temperatura:\n",
    "    valor, unidad_origen, unidad_destino = combinacion\n",
    "    for unidad in unidades:\n",
    "        if unidad != unidad_origen:\n",
    "            resultado = convertir_temperatura(valor, unidad_origen, unidad)\n",
    "            print(f\"{valor}{unidad_origen} es igual a {resultado:.2f}{unidad}\")"
   ]
  },
  {
   "attachments": {},
   "cell_type": "markdown",
   "metadata": {},
   "source": [
    "6) Armar una función que devuelva el factorial de un número. Tener en cuenta que el usuario puede equivocarse y enviar de parámetro un número no entero o negativo"
   ]
  },
  {
   "cell_type": "code",
   "execution_count": 27,
   "metadata": {},
   "outputs": [
    {
     "name": "stdout",
     "output_type": "stream",
     "text": [
      "El factorial de 45 es 119622220865480194561963161495657715064383733760000000000\n"
     ]
    }
   ],
   "source": [
    "def factorial(numero):\n",
    "    if not isinstance(numero, int) or numero < 0:\n",
    "        raise ValueError(\"El número debe ser un entero no negativo.\")\n",
    "    \n",
    "    if numero == 0 or numero == 1:\n",
    "        return 1\n",
    "    \n",
    "    resultado = 1\n",
    "    for i in range(2, numero + 1):\n",
    "        resultado *= i\n",
    "    \n",
    "    return resultado\n",
    "\n",
    "try:\n",
    "    numero = int(input(\"Ingrese un número entero no negativo: \"))\n",
    "    resultado_factorial = factorial(numero)\n",
    "    print(f\"El factorial de {numero} es {resultado_factorial}\")\n",
    "except ValueError as e:\n",
    "    print(e)\n"
   ]
  },
  {
   "cell_type": "code",
   "execution_count": 28,
   "metadata": {},
   "outputs": [
    {
     "name": "stdout",
     "output_type": "stream",
     "text": [
      "120\n"
     ]
    }
   ],
   "source": [
    "print(factorial(5))"
   ]
  }
 ],
 "metadata": {
  "interpreter": {
   "hash": "c85384e4cb51c8b72350f3a8712cc8351fdc3955e32a27f9b60c6242ab125f01"
  },
  "kernelspec": {
   "display_name": "Python 3 (ipykernel)",
   "language": "python",
   "name": "python3"
  },
  "language_info": {
   "codemirror_mode": {
    "name": "ipython",
    "version": 3
   },
   "file_extension": ".py",
   "mimetype": "text/x-python",
   "name": "python",
   "nbconvert_exporter": "python",
   "pygments_lexer": "ipython3",
   "version": "3.11.4"
  }
 },
 "nbformat": 4,
 "nbformat_minor": 4
}
