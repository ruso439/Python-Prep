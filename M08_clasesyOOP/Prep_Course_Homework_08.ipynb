{
 "cells": [
  {
   "attachments": {},
   "cell_type": "markdown",
   "metadata": {},
   "source": [
    "## Clases y Programación Orientada a Objetos"
   ]
  },
  {
   "attachments": {},
   "cell_type": "markdown",
   "metadata": {},
   "source": [
    "1) Crear la clase vehículo que contenga los atributos:<br>\n",
    "Color<br>\n",
    "Si es moto, auto, camioneta ó camión<br>\n",
    "Cilindrada del motor"
   ]
  },
  {
   "cell_type": "code",
   "execution_count": 1,
   "metadata": {},
   "outputs": [],
   "source": [
    "class vehiculo:\n",
    "    def __init__(self, color, tipo, cilindrada):\n",
    "        self.color = color\n",
    "        self.tipo = tipo\n",
    "        self.cilindrada = cilindrada"
   ]
  },
  {
   "attachments": {},
   "cell_type": "markdown",
   "metadata": {},
   "source": [
    "2) A la clase Vehiculo creada en el punto 1, agregar los siguientes métodos:<br>\n",
    "Acelerar<br>\n",
    "Frenar<br>\n",
    "Doblar<br>"
   ]
  },
  {
   "cell_type": "code",
   "execution_count": 2,
   "metadata": {},
   "outputs": [],
   "source": [
    "class vehiculo:\n",
    "    def __init__(self, color, tipo, cilindrada):\n",
    "        self.color = color\n",
    "        self.tipo = tipo\n",
    "        self.cilindrada = cilindrada\n",
    "        self.velocidad = 0\n",
    "        self.direccion = 0\n",
    "    \n",
    "    def acelerar(self, vel):\n",
    "        self.velocidad += vel\n",
    "    \n",
    "    def frenar(self, vel):\n",
    "        self.velocidad -= vel\n",
    "    \n",
    "    def doblar(self, grados):\n",
    "        self.direccion += grados"
   ]
  },
  {
   "attachments": {},
   "cell_type": "markdown",
   "metadata": {},
   "source": [
    "3) Instanciar 3 objetos de la clase vehículo y ejecutar sus métodos, probar luego el resultado"
   ]
  },
  {
   "cell_type": "code",
   "execution_count": 3,
   "metadata": {},
   "outputs": [],
   "source": [
    "a1 = vehiculo('rojo','camion',13.0)\n",
    "a2 = vehiculo('amarillo','moto',0.9)\n",
    "a3 = vehiculo('azul','auto',2.0)"
   ]
  },
  {
   "cell_type": "code",
   "execution_count": 4,
   "metadata": {},
   "outputs": [],
   "source": [
    "a1.acelerar(30)\n",
    "a2.acelerar(80)\n",
    "a3.acelerar(30)\n",
    "\n",
    "a1.doblar(45)\n",
    "a2.doblar(90)\n",
    "a3.doblar(-45)\n",
    "\n",
    "a1.frenar(-30)\n",
    "a2.frenar(-50)\n",
    "a3.frenar(-30)"
   ]
  },
  {
   "attachments": {},
   "cell_type": "markdown",
   "metadata": {},
   "source": [
    "4) Agregar a la clase Vehiculo, un método que muestre su estado, es decir, a que velocidad se encuentra y su dirección. Y otro método que muestre color, tipo y cilindrada"
   ]
  },
  {
   "cell_type": "code",
   "execution_count": 5,
   "metadata": {},
   "outputs": [
    {
     "name": "stdout",
     "output_type": "stream",
     "text": [
      "Estado del vehículo:\n",
      "Velocidad: 20 km/h\n",
      "Dirección: 0 grados\n",
      "Estado del vehículo:\n",
      "Velocidad: -5 km/h\n",
      "Dirección: 0 grados\n",
      "Estado del vehículo:\n",
      "Velocidad: 0 km/h\n",
      "Dirección: 45 grados\n",
      "Información del vehículo:\n",
      "Color: rojo\n",
      "Tipo: camion\n",
      "Cilindrada: 13.0 L\n",
      "Información del vehículo:\n",
      "Color: amarillo\n",
      "Tipo: moto\n",
      "Cilindrada: 0.9 L\n",
      "Información del vehículo:\n",
      "Color: azul\n",
      "Tipo: auto\n",
      "Cilindrada: 2.0 L\n"
     ]
    }
   ],
   "source": [
    "class Vehiculo:\n",
    "    def __init__(self, color, tipo, cilindrada):\n",
    "        self.color = color\n",
    "        self.tipo = tipo\n",
    "        self.cilindrada = cilindrada\n",
    "        self.velocidad = 0\n",
    "        self.direccion = 0\n",
    "    \n",
    "    def acelerar(self, vel):\n",
    "        self.velocidad += vel\n",
    "    \n",
    "    def frenar(self, vel):\n",
    "        self.velocidad -= vel\n",
    "    \n",
    "    def doblar(self, grados):\n",
    "        self.direccion += grados\n",
    "    \n",
    "    def mostrar_estado(self):\n",
    "        print(f\"Estado del vehículo:\")\n",
    "        print(f\"Velocidad: {self.velocidad} km/h\")\n",
    "        print(f\"Dirección: {self.direccion} grados\")\n",
    "    \n",
    "    def mostrar_informacion(self):\n",
    "        print(f\"Información del vehículo:\")\n",
    "        print(f\"Color: {self.color}\")\n",
    "        print(f\"Tipo: {self.tipo}\")\n",
    "        print(f\"Cilindrada: {self.cilindrada} L\")\n",
    "\n",
    "# Instanciación de objetos\n",
    "a1 = Vehiculo('rojo', 'camion', 13.0)\n",
    "a2 = Vehiculo('amarillo', 'moto', 0.9)\n",
    "a3 = Vehiculo('azul', 'auto', 2.0)\n",
    "\n",
    "# Utilización de los métodos\n",
    "a1.acelerar(20)\n",
    "a2.frenar(5)\n",
    "a3.doblar(45)\n",
    "\n",
    "a1.mostrar_estado()\n",
    "a2.mostrar_estado()\n",
    "a3.mostrar_estado()\n",
    "\n",
    "a1.mostrar_informacion()\n",
    "a2.mostrar_informacion()\n",
    "a3.mostrar_informacion()\n"
   ]
  },
  {
   "attachments": {},
   "cell_type": "markdown",
   "metadata": {},
   "source": [
    "5) Crear una clase que permita utilizar las funciones creadas en la práctica del módulo 7<br>\n",
    "Verificar Primo<br>\n",
    "Valor modal<br>\n",
    "Conversión grados<br>\n",
    "Factorial<br>"
   ]
  },
  {
   "cell_type": "code",
   "execution_count": 8,
   "metadata": {},
   "outputs": [
    {
     "name": "stdout",
     "output_type": "stream",
     "text": [
      "True\n",
      "[6]\n",
      "77.0\n",
      "120\n"
     ]
    }
   ],
   "source": [
    "class Utilidades:\n",
    "    @staticmethod\n",
    "    def verificar_primo(numero):\n",
    "        if numero <= 1:\n",
    "            return False\n",
    "        for i in range(2, int(numero ** 0.5) + 1):\n",
    "            if numero % i == 0:\n",
    "                return False\n",
    "        return True\n",
    "    \n",
    "    @staticmethod\n",
    "    def valor_modal(lista):\n",
    "        frecuencias = {}\n",
    "        for elemento in lista:\n",
    "            if elemento in frecuencias:\n",
    "                frecuencias[elemento] += 1\n",
    "            else:\n",
    "                frecuencias[elemento] = 1\n",
    "        max_frecuencia = max(frecuencias.values())\n",
    "        modales = [elemento for elemento, frecuencia in frecuencias.items() if frecuencia == max_frecuencia]\n",
    "        return modales\n",
    "    \n",
    "    @staticmethod\n",
    "    def convertir_temperatura(valor, unidad_origen, unidad_destino):\n",
    "        if unidad_origen == \"C\" and unidad_destino == \"F\":\n",
    "            valor_convertido = (valor * 9/5) + 32\n",
    "        elif unidad_origen == \"C\" and unidad_destino == \"K\":\n",
    "            valor_convertido = valor + 273.15\n",
    "        elif unidad_origen == \"F\" and unidad_destino == \"C\":\n",
    "            valor_convertido = (valor - 32) * 5/9\n",
    "        elif unidad_origen == \"F\" and unidad_destino == \"K\":\n",
    "            valor_convertido = (valor - 32) * 5/9 + 273.15\n",
    "        elif unidad_origen == \"K\" and unidad_destino == \"C\":\n",
    "            valor_convertido = valor - 273.15\n",
    "        elif unidad_origen == \"K\" and unidad_destino == \"F\":\n",
    "            valor_convertido = (valor - 273.15) * 9/5 + 32\n",
    "        else:\n",
    "            raise ValueError(\"Unidad de origen o destino no reconocida.\")\n",
    "        \n",
    "        return valor_convertido\n",
    "    \n",
    "    @staticmethod\n",
    "    def factorial(numero):\n",
    "        if not isinstance(numero, int) or numero < 0:\n",
    "            raise ValueError(\"El número debe ser un entero no negativo.\")\n",
    "        \n",
    "        if numero == 0 or numero == 1:\n",
    "            return 1\n",
    "        \n",
    "        resultado = 1\n",
    "        for i in range(2, numero + 1):\n",
    "            resultado *= i\n",
    "        \n",
    "        return resultado\n",
    "\n",
    "# Ejemplo de uso\n",
    "utilidades = Utilidades()\n",
    "\n",
    "# Verificar si un número es primo\n",
    "print(utilidades.verificar_primo(17))\n",
    "\n",
    "# Valor modal en una lista\n",
    "print(utilidades.valor_modal([3, 6, 8, 6, 9, 3, 6, 9]))\n",
    "\n",
    "# Conversión de temperatura\n",
    "print(utilidades.convertir_temperatura(25, \"C\", \"F\"))\n",
    "\n",
    "# Factorial de un número\n",
    "print(utilidades.factorial(5))\n"
   ]
  },
  {
   "attachments": {},
   "cell_type": "markdown",
   "metadata": {},
   "source": [
    "6) Probar las funciones incorporadas en la clase del punto 5"
   ]
  },
  {
   "cell_type": "code",
   "execution_count": 10,
   "metadata": {},
   "outputs": [
    {
     "data": {
      "text/plain": [
       "True"
      ]
     },
     "execution_count": 10,
     "metadata": {},
     "output_type": "execute_result"
    }
   ],
   "source": [
    "utilidades.verificar_primo(17)"
   ]
  },
  {
   "cell_type": "code",
   "execution_count": 11,
   "metadata": {},
   "outputs": [
    {
     "data": {
      "text/plain": [
       "5040"
      ]
     },
     "execution_count": 11,
     "metadata": {},
     "output_type": "execute_result"
    }
   ],
   "source": [
    "utilidades.factorial(7)"
   ]
  },
  {
   "cell_type": "code",
   "execution_count": 15,
   "metadata": {},
   "outputs": [
    {
     "name": "stdout",
     "output_type": "stream",
     "text": [
      "476.15 -9.669999999999959 37.77777777777778\n"
     ]
    }
   ],
   "source": [
    "print(\n",
    "utilidades.convertir_temperatura(203,\"C\",\"K\"),\n",
    "utilidades.convertir_temperatura(250,\"K\",\"F\"),\n",
    "utilidades.convertir_temperatura(100,\"F\",\"C\")\n",
    ")"
   ]
  },
  {
   "cell_type": "code",
   "execution_count": 16,
   "metadata": {},
   "outputs": [
    {
     "data": {
      "text/plain": [
       "[8]"
      ]
     },
     "execution_count": 16,
     "metadata": {},
     "output_type": "execute_result"
    }
   ],
   "source": [
    "listado = [1,8,2,5,4,8,10,7]\n",
    "utilidades.valor_modal(listado)\n"
   ]
  },
  {
   "attachments": {},
   "cell_type": "markdown",
   "metadata": {},
   "source": [
    "7) Es necesario que la clase creada en el punto 5 contenga una lista, sobre la cual se apliquen las funciones incorporadas"
   ]
  },
  {
   "cell_type": "code",
   "execution_count": 19,
   "metadata": {},
   "outputs": [
    {
     "name": "stdout",
     "output_type": "stream",
     "text": [
      "El elemento 5 SI es un numero primo\n",
      "El elemento 7 SI es un numero primo\n",
      "El elemento 10 NO es un numero primo\n",
      "El elemento 15 NO es un numero primo\n",
      "5 grados celsius son 41.0 grados farenheit\n",
      "7 grados celsius son 44.6 grados farenheit\n",
      "10 grados celsius son 50.0 grados farenheit\n",
      "15 grados celsius son 59.0 grados farenheit\n",
      "El factorial de 5 es 120\n",
      "El factorial de 7 es 5040\n",
      "El factorial de 10 es 3628800\n",
      "El factorial de 15 es 1307674368000\n"
     ]
    }
   ],
   "source": [
    "class Herramientas:\n",
    "    def __init__(self, lista_numeros):\n",
    "        self.lista = lista_numeros\n",
    "\n",
    "    def verificar_primo(self):\n",
    "        for i in self.lista:\n",
    "            if self.__verifica_primo(i):\n",
    "                print('El elemento', i, 'SI es un numero primo')\n",
    "            else:\n",
    "                print('El elemento', i, 'NO es un numero primo')\n",
    "\n",
    "    def conversion_grados(self, origen, destino):\n",
    "        for i in self.lista:\n",
    "            print(i, 'grados', origen, 'son', self.__conversion_grados(i, origen, destino), 'grados', destino)\n",
    "    \n",
    "    def factorial(self):\n",
    "        for i in self.lista:\n",
    "            print('El factorial de', i, 'es', self.__factorial(i))\n",
    "\n",
    "    def mostrar_resultados(self):\n",
    "        self.verificar_primo()\n",
    "        self.conversion_grados('celsius', 'farenheit')\n",
    "        self.factorial()\n",
    "\n",
    "    def __verifica_primo(self, nro):\n",
    "        es_primo = True\n",
    "        for i in range(2, nro):\n",
    "            if nro % i == 0:\n",
    "                es_primo = False\n",
    "                break\n",
    "        return es_primo\n",
    "\n",
    "    def __conversion_grados(self, valor, origen, destino):\n",
    "        valor_destino = None\n",
    "        if origen == 'celsius':\n",
    "            if destino == 'celsius':\n",
    "                valor_destino = valor\n",
    "            elif destino == 'farenheit':\n",
    "                valor_destino = (valor * 9 / 5) + 32\n",
    "            elif destino == 'kelvin':\n",
    "                valor_destino = valor + 273.15\n",
    "            else:\n",
    "                print('Parámetro de Destino incorrecto')\n",
    "        elif origen == 'farenheit':\n",
    "            if destino == 'celsius':\n",
    "                valor_destino = (valor - 32) * 5 / 9\n",
    "            elif destino == 'farenheit':\n",
    "                valor_destino = valor\n",
    "            elif destino == 'kelvin':\n",
    "                valor_destino = ((valor - 32) * 5 / 9) + 273.15\n",
    "            else:\n",
    "                print('Parámetro de Destino incorrecto')\n",
    "        elif origen == 'kelvin':\n",
    "            if destino == 'celsius':\n",
    "                valor_destino = valor - 273.15\n",
    "            elif destino == 'farenheit':\n",
    "                valor_destino = ((valor - 273.15) * 9 / 5) + 32\n",
    "            elif destino == 'kelvin':\n",
    "                valor_destino = valor\n",
    "            else:\n",
    "                print('Parámetro de Destino incorrecto')\n",
    "        else:\n",
    "            print('Parámetro de Origen incorrecto')\n",
    "        return valor_destino\n",
    "\n",
    "    def __factorial(self, numero):\n",
    "        if type(numero) != int:\n",
    "            return 'El numero debe ser un entero'\n",
    "        if numero < 0:\n",
    "            return 'El numero debe ser positivo'\n",
    "        if numero > 1:\n",
    "            numero = numero * self.__factorial(numero - 1)\n",
    "        return numero\n",
    "\n",
    "# Ejemplo de uso\n",
    "numeros = [5, 7, 10, 15]\n",
    "herramientas = Herramientas(numeros)\n",
    "\n",
    "herramientas.mostrar_resultados()\n"
   ]
  },
  {
   "attachments": {},
   "cell_type": "markdown",
   "metadata": {},
   "source": [
    "8) Crear un archivo .py aparte y ubicar allí la clase generada en el punto anterior. Luego realizar la importación del módulo y probar alguna de sus funciones"
   ]
  },
  {
   "cell_type": "code",
   "execution_count": 2,
   "metadata": {},
   "outputs": [
    {
     "name": "stdout",
     "output_type": "stream",
     "text": [
      "El elemento 1 SI es un numero primo\n",
      "El elemento 3 SI es un numero primo\n",
      "El elemento 4 NO es un numero primo\n",
      "El elemento 6 NO es un numero primo\n",
      "El elemento 7 SI es un numero primo\n",
      "El elemento 8 NO es un numero primo\n",
      "El elemento 13 SI es un numero primo\n",
      "El elemento 16 NO es un numero primo\n",
      "El elemento 19 SI es un numero primo\n",
      "1 grados celsius son 33.8 grados farenheit\n",
      "3 grados celsius son 37.4 grados farenheit\n",
      "4 grados celsius son 39.2 grados farenheit\n",
      "6 grados celsius son 42.8 grados farenheit\n",
      "7 grados celsius son 44.6 grados farenheit\n",
      "8 grados celsius son 46.4 grados farenheit\n",
      "13 grados celsius son 55.4 grados farenheit\n",
      "16 grados celsius son 60.8 grados farenheit\n",
      "19 grados celsius son 66.2 grados farenheit\n",
      "El factorial de 1 es 1\n",
      "El factorial de 3 es 6\n",
      "El factorial de 4 es 24\n",
      "El factorial de 6 es 720\n",
      "El factorial de 7 es 5040\n",
      "El factorial de 8 es 40320\n",
      "El factorial de 13 es 6227020800\n",
      "El factorial de 16 es 20922789888000\n",
      "El factorial de 19 es 121645100408832000\n"
     ]
    }
   ],
   "source": [
    "# uso_herramientas.py\n",
    "from herramientas import Herramientas\n",
    "\n",
    "# Lista de números para probar\n",
    "numeros = [1,3,4,6,7,8,13,16,19]\n",
    "\n",
    "# Crear una instancia de la clase Herramientas\n",
    "herramientas = Herramientas(numeros)\n",
    "\n",
    "# Probar una de las funciones\n",
    "herramientas.mostrar_resultados()\n"
   ]
  }
 ],
 "metadata": {
  "interpreter": {
   "hash": "c85384e4cb51c8b72350f3a8712cc8351fdc3955e32a27f9b60c6242ab125f01"
  },
  "kernelspec": {
   "display_name": "Python 3 (ipykernel)",
   "language": "python",
   "name": "python3"
  },
  "language_info": {
   "codemirror_mode": {
    "name": "ipython",
    "version": 3
   },
   "file_extension": ".py",
   "mimetype": "text/x-python",
   "name": "python",
   "nbconvert_exporter": "python",
   "pygments_lexer": "ipython3",
   "version": "3.11.4"
  }
 },
 "nbformat": 4,
 "nbformat_minor": 4
}
